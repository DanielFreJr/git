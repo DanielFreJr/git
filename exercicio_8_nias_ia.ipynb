{
 "cells": [
  {
   "cell_type": "code",
   "execution_count": 1,
   "id": "c57e8501",
   "metadata": {
    "_cell_guid": "b1076dfc-b9ad-4769-8c92-a6c4dae69d19",
    "_uuid": "8f2839f25d086af736a60e9eeb907d3b93b6e0e5",
    "execution": {
     "iopub.execute_input": "2024-05-03T19:01:03.005496Z",
     "iopub.status.busy": "2024-05-03T19:01:03.004821Z",
     "iopub.status.idle": "2024-05-03T19:01:04.055907Z",
     "shell.execute_reply": "2024-05-03T19:01:04.054745Z"
    },
    "papermill": {
     "duration": 1.06144,
     "end_time": "2024-05-03T19:01:04.058608",
     "exception": false,
     "start_time": "2024-05-03T19:01:02.997168",
     "status": "completed"
    },
    "tags": []
   },
   "outputs": [
    {
     "name": "stdout",
     "output_type": "stream",
     "text": [
      "/kaggle/input/gender/gender_submission.csv\n",
      "/kaggle/input/titanic-daniel/train.csv\n",
      "/kaggle/input/titanic-daniel/test.csv\n"
     ]
    }
   ],
   "source": [
    "# This Python 3 environment comes with many helpful analytics libraries installed\n",
    "# It is defined by the kaggle/python Docker image: https://github.com/kaggle/docker-python\n",
    "# For example, here's several helpful packages to load\n",
    "\n",
    "import numpy as np # linear algebra\n",
    "import pandas as pd # data processing, CSV file I/O (e.g. pd.read_csv)\n",
    "\n",
    "# Input data files are available in the read-only \"../input/\" directory\n",
    "# For example, running this (by clicking run or pressing Shift+Enter) will list all files under the input directory\n",
    "\n",
    "import os\n",
    "for dirname, _, filenames in os.walk('/kaggle/input'):\n",
    "    for filename in filenames:\n",
    "        print(os.path.join(dirname, filename))\n",
    "\n",
    "# You can write up to 20GB to the current directory (/kaggle/working/) that gets preserved as output when you create a version using \"Save & Run All\" \n",
    "# You can also write temporary files to /kaggle/temp/, but they won't be saved outside of the current session"
   ]
  },
  {
   "cell_type": "code",
   "execution_count": 2,
   "id": "b333238a",
   "metadata": {
    "execution": {
     "iopub.execute_input": "2024-05-03T19:01:04.071296Z",
     "iopub.status.busy": "2024-05-03T19:01:04.070765Z",
     "iopub.status.idle": "2024-05-03T19:01:04.099779Z",
     "shell.execute_reply": "2024-05-03T19:01:04.098773Z"
    },
    "papermill": {
     "duration": 0.038357,
     "end_time": "2024-05-03T19:01:04.102499",
     "exception": false,
     "start_time": "2024-05-03T19:01:04.064142",
     "status": "completed"
    },
    "tags": []
   },
   "outputs": [],
   "source": [
    "# CRIANDOS OS DATA SHETS \n",
    "treino= pd.read_csv('/kaggle/input/titanic-daniel/train.csv')\n",
    "teste= pd.read_csv('/kaggle/input/titanic-daniel/test.csv')"
   ]
  },
  {
   "cell_type": "code",
   "execution_count": 3,
   "id": "a2394245",
   "metadata": {
    "execution": {
     "iopub.execute_input": "2024-05-03T19:01:04.114518Z",
     "iopub.status.busy": "2024-05-03T19:01:04.114129Z",
     "iopub.status.idle": "2024-05-03T19:01:04.134130Z",
     "shell.execute_reply": "2024-05-03T19:01:04.132882Z"
    },
    "papermill": {
     "duration": 0.029334,
     "end_time": "2024-05-03T19:01:04.136986",
     "exception": false,
     "start_time": "2024-05-03T19:01:04.107652",
     "status": "completed"
    },
    "tags": []
   },
   "outputs": [],
   "source": [
    "# Calcula a porcentagem de valores nulos em cada coluna\n",
    "porcentagem_nulos = (treino.isnull().sum() / len(treino)) * 100\n",
    "\n",
    "# Obtém os nomes das colunas que têm mais de 50% de valores nulos\n",
    "colunas_para_excluir = porcentagem_nulos[porcentagem_nulos > 50].index\n",
    "\n",
    "# Exclui as colunas do DataFrame\n",
    "treino = treino.drop(columns=colunas_para_excluir)"
   ]
  },
  {
   "cell_type": "code",
   "execution_count": 4,
   "id": "956a9317",
   "metadata": {
    "execution": {
     "iopub.execute_input": "2024-05-03T19:01:04.149395Z",
     "iopub.status.busy": "2024-05-03T19:01:04.148647Z",
     "iopub.status.idle": "2024-05-03T19:01:04.155553Z",
     "shell.execute_reply": "2024-05-03T19:01:04.154552Z"
    },
    "papermill": {
     "duration": 0.016011,
     "end_time": "2024-05-03T19:01:04.158176",
     "exception": false,
     "start_time": "2024-05-03T19:01:04.142165",
     "status": "completed"
    },
    "tags": []
   },
   "outputs": [],
   "source": [
    "treino.drop('Name' ,axis=1, inplace=True)"
   ]
  },
  {
   "cell_type": "code",
   "execution_count": 5,
   "id": "97365bfe",
   "metadata": {
    "execution": {
     "iopub.execute_input": "2024-05-03T19:01:04.170636Z",
     "iopub.status.busy": "2024-05-03T19:01:04.170221Z",
     "iopub.status.idle": "2024-05-03T19:01:06.042079Z",
     "shell.execute_reply": "2024-05-03T19:01:06.040402Z"
    },
    "papermill": {
     "duration": 1.881927,
     "end_time": "2024-05-03T19:01:06.045309",
     "exception": false,
     "start_time": "2024-05-03T19:01:04.163382",
     "status": "completed"
    },
    "tags": []
   },
   "outputs": [],
   "source": [
    "#Modelando os nosso dados \n",
    "y = treino.Survived\n",
    "X = treino.drop('Survived' , axis=1)\n",
    "\n",
    "# Separando os dados de treino e teste \n",
    "from sklearn.model_selection import train_test_split\n",
    "\n",
    "X_train , X_val , y_train , y_val  = train_test_split(X,y)\n",
    "\n",
    "#Criando a arvore\n",
    "from sklearn.ensemble import RandomForestClassifier\n",
    "from sklearn.ensemble import RandomForestRegressor\n",
    "\n",
    "modelo_Classifier = RandomForestClassifier()\n",
    "modelo_Regressor  = RandomForestRegressor()\n",
    "\n"
   ]
  },
  {
   "cell_type": "code",
   "execution_count": 6,
   "id": "7995c48d",
   "metadata": {
    "execution": {
     "iopub.execute_input": "2024-05-03T19:01:06.059082Z",
     "iopub.status.busy": "2024-05-03T19:01:06.058651Z",
     "iopub.status.idle": "2024-05-03T19:01:06.083044Z",
     "shell.execute_reply": "2024-05-03T19:01:06.081735Z"
    },
    "papermill": {
     "duration": 0.034633,
     "end_time": "2024-05-03T19:01:06.086167",
     "exception": false,
     "start_time": "2024-05-03T19:01:06.051534",
     "status": "completed"
    },
    "tags": []
   },
   "outputs": [],
   "source": [
    "from sklearn.pipeline import Pipeline\n",
    "from sklearn.impute import SimpleImputer\n",
    "from sklearn.preprocessing import OneHotEncoder\n",
    "from sklearn.compose import ColumnTransformer\n",
    "from sklearn.preprocessing import StandardScaler\n",
    "\n",
    "coluna_categorica = [coluna for coluna in X_train.columns if X_train[coluna].dtype=='object']\n",
    "coluna_numericas = [coluna for coluna in X_train.columns if X_train[coluna].dtype != 'object']\n",
    "\n",
    "\n",
    "variavel_numerica = Pipeline([('imputer', SimpleImputer(strategy='median'))])\n",
    "                             \n",
    "\n",
    "\n",
    "variavel_categorica = Pipeline([('imputer', SimpleImputer(strategy='most_frequent')),('onehotencoder', OneHotEncoder(handle_unknown='ignore'))])\n",
    "\n"
   ]
  },
  {
   "cell_type": "code",
   "execution_count": 7,
   "id": "411b2b1e",
   "metadata": {
    "execution": {
     "iopub.execute_input": "2024-05-03T19:01:06.099154Z",
     "iopub.status.busy": "2024-05-03T19:01:06.098758Z",
     "iopub.status.idle": "2024-05-03T19:01:06.104800Z",
     "shell.execute_reply": "2024-05-03T19:01:06.103839Z"
    },
    "papermill": {
     "duration": 0.015478,
     "end_time": "2024-05-03T19:01:06.107218",
     "exception": false,
     "start_time": "2024-05-03T19:01:06.091740",
     "status": "completed"
    },
    "tags": []
   },
   "outputs": [],
   "source": [
    "#criando o preprossesador\n",
    "\n",
    "preprocessador = ColumnTransformer(transformers=[('num' ,variavel_numerica , coluna_numericas) ,\n",
    "                                                ('cat' , variavel_categorica , coluna_categorica)])\n",
    "\n",
    "pipeline = Pipeline(steps=[('preprocessador', preprocessador) ,\n",
    "                           ('standardscaler' , StandardScaler(with_mean=False)) ,\n",
    "                          ('modeloClassifier' , modelo_Classifier)])"
   ]
  },
  {
   "cell_type": "code",
   "execution_count": 8,
   "id": "8965a492",
   "metadata": {
    "execution": {
     "iopub.execute_input": "2024-05-03T19:01:06.121056Z",
     "iopub.status.busy": "2024-05-03T19:01:06.119713Z",
     "iopub.status.idle": "2024-05-03T19:01:06.573790Z",
     "shell.execute_reply": "2024-05-03T19:01:06.572447Z"
    },
    "papermill": {
     "duration": 0.464304,
     "end_time": "2024-05-03T19:01:06.577023",
     "exception": false,
     "start_time": "2024-05-03T19:01:06.112719",
     "status": "completed"
    },
    "tags": []
   },
   "outputs": [],
   "source": [
    "pipeline.fit(X_train , y_train)\n",
    "previsão = pipeline.predict(X_val)"
   ]
  },
  {
   "cell_type": "code",
   "execution_count": 9,
   "id": "5bc7433a",
   "metadata": {
    "execution": {
     "iopub.execute_input": "2024-05-03T19:01:06.592634Z",
     "iopub.status.busy": "2024-05-03T19:01:06.591857Z",
     "iopub.status.idle": "2024-05-03T19:01:06.601042Z",
     "shell.execute_reply": "2024-05-03T19:01:06.599371Z"
    },
    "papermill": {
     "duration": 0.020081,
     "end_time": "2024-05-03T19:01:06.603432",
     "exception": false,
     "start_time": "2024-05-03T19:01:06.583351",
     "status": "completed"
    },
    "tags": []
   },
   "outputs": [
    {
     "name": "stdout",
     "output_type": "stream",
     "text": [
      "0.8161434977578476\n"
     ]
    }
   ],
   "source": [
    "from sklearn.metrics import accuracy_score\n",
    "\n",
    "score = accuracy_score(y_val , previsão)\n",
    "\n",
    "print(score)"
   ]
  },
  {
   "cell_type": "code",
   "execution_count": 10,
   "id": "557d918f",
   "metadata": {
    "execution": {
     "iopub.execute_input": "2024-05-03T19:01:06.615930Z",
     "iopub.status.busy": "2024-05-03T19:01:06.615456Z",
     "iopub.status.idle": "2024-05-03T19:01:06.621105Z",
     "shell.execute_reply": "2024-05-03T19:01:06.620231Z"
    },
    "papermill": {
     "duration": 0.014462,
     "end_time": "2024-05-03T19:01:06.623323",
     "exception": false,
     "start_time": "2024-05-03T19:01:06.608861",
     "status": "completed"
    },
    "tags": []
   },
   "outputs": [],
   "source": [
    "pipeline2 = Pipeline(steps=[('preprocessador', preprocessador) ,\n",
    "                           ('standardscaler' , StandardScaler(with_mean=False)) ,\n",
    "                          ('modeloRegressor' , modelo_Regressor)])"
   ]
  },
  {
   "cell_type": "code",
   "execution_count": 11,
   "id": "dd9fa62e",
   "metadata": {
    "execution": {
     "iopub.execute_input": "2024-05-03T19:01:06.635487Z",
     "iopub.status.busy": "2024-05-03T19:01:06.635119Z",
     "iopub.status.idle": "2024-05-03T19:01:07.460594Z",
     "shell.execute_reply": "2024-05-03T19:01:07.459249Z"
    },
    "papermill": {
     "duration": 0.83478,
     "end_time": "2024-05-03T19:01:07.463312",
     "exception": false,
     "start_time": "2024-05-03T19:01:06.628532",
     "status": "completed"
    },
    "tags": []
   },
   "outputs": [
    {
     "name": "stdout",
     "output_type": "stream",
     "text": [
      "0.8161434977578476\n"
     ]
    }
   ],
   "source": [
    "pipeline2.fit(X_train , y_train)\n",
    "previsão2 = pipeline2.predict(X_val)\n",
    "\n",
    "score2 = accuracy_score(y_val , previsão)\n",
    "\n",
    "print(score2)"
   ]
  },
  {
   "cell_type": "code",
   "execution_count": null,
   "id": "e7820e7f",
   "metadata": {
    "papermill": {
     "duration": 0.005049,
     "end_time": "2024-05-03T19:01:07.473698",
     "exception": false,
     "start_time": "2024-05-03T19:01:07.468649",
     "status": "completed"
    },
    "tags": []
   },
   "outputs": [],
   "source": []
  }
 ],
 "metadata": {
  "kaggle": {
   "accelerator": "none",
   "dataSources": [
    {
     "datasetId": 4528318,
     "sourceId": 7746316,
     "sourceType": "datasetVersion"
    },
    {
     "datasetId": 4532896,
     "sourceId": 7752597,
     "sourceType": "datasetVersion"
    }
   ],
   "dockerImageVersionId": 30684,
   "isGpuEnabled": false,
   "isInternetEnabled": false,
   "language": "python",
   "sourceType": "notebook"
  },
  "kernelspec": {
   "display_name": "Python 3",
   "language": "python",
   "name": "python3"
  },
  "language_info": {
   "codemirror_mode": {
    "name": "ipython",
    "version": 3
   },
   "file_extension": ".py",
   "mimetype": "text/x-python",
   "name": "python",
   "nbconvert_exporter": "python",
   "pygments_lexer": "ipython3",
   "version": "3.10.13"
  },
  "papermill": {
   "default_parameters": {},
   "duration": 8.369029,
   "end_time": "2024-05-03T19:01:08.100130",
   "environment_variables": {},
   "exception": null,
   "input_path": "__notebook__.ipynb",
   "output_path": "__notebook__.ipynb",
   "parameters": {},
   "start_time": "2024-05-03T19:00:59.731101",
   "version": "2.5.0"
  }
 },
 "nbformat": 4,
 "nbformat_minor": 5
}
