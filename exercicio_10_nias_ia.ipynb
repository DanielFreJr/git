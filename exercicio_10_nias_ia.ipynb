{
 "cells": [
  {
   "cell_type": "code",
   "execution_count": 1,
   "id": "89a29841",
   "metadata": {
    "_cell_guid": "b1076dfc-b9ad-4769-8c92-a6c4dae69d19",
    "_uuid": "8f2839f25d086af736a60e9eeb907d3b93b6e0e5",
    "execution": {
     "iopub.execute_input": "2024-05-03T19:02:33.472240Z",
     "iopub.status.busy": "2024-05-03T19:02:33.471465Z",
     "iopub.status.idle": "2024-05-03T19:02:34.256571Z",
     "shell.execute_reply": "2024-05-03T19:02:34.255321Z"
    },
    "papermill": {
     "duration": 0.796237,
     "end_time": "2024-05-03T19:02:34.258950",
     "exception": false,
     "start_time": "2024-05-03T19:02:33.462713",
     "status": "completed"
    },
    "tags": []
   },
   "outputs": [
    {
     "name": "stdout",
     "output_type": "stream",
     "text": [
      "/kaggle/input/szeged-weather/weatherHistory.csv\n"
     ]
    }
   ],
   "source": [
    "# This Python 3 environment comes with many helpful analytics libraries installed\n",
    "# It is defined by the kaggle/python Docker image: https://github.com/kaggle/docker-python\n",
    "# For example, here's several helpful packages to load\n",
    "\n",
    "import numpy as np # linear algebra\n",
    "import pandas as pd # data processing, CSV file I/O (e.g. pd.read_csv)\n",
    "\n",
    "# Input data files are available in the read-only \"../input/\" directory\n",
    "# For example, running this (by clicking run or pressing Shift+Enter) will list all files under the input directory\n",
    "\n",
    "import os\n",
    "for dirname, _, filenames in os.walk('/kaggle/input'):\n",
    "    for filename in filenames:\n",
    "        print(os.path.join(dirname, filename))\n",
    "\n",
    "# You can write up to 20GB to the current directory (/kaggle/working/) that gets preserved as output when you create a version using \"Save & Run All\" \n",
    "# You can also write temporary files to /kaggle/temp/, but they won't be saved outside of the current session"
   ]
  },
  {
   "cell_type": "markdown",
   "id": "10120099",
   "metadata": {
    "papermill": {
     "duration": 0.006212,
     "end_time": "2024-05-03T19:02:34.271757",
     "exception": false,
     "start_time": "2024-05-03T19:02:34.265545",
     "status": "completed"
    },
    "tags": []
   },
   "source": [
    "# **importado os dados **"
   ]
  },
  {
   "cell_type": "code",
   "execution_count": 2,
   "id": "e9b03526",
   "metadata": {
    "execution": {
     "iopub.execute_input": "2024-05-03T19:02:34.286506Z",
     "iopub.status.busy": "2024-05-03T19:02:34.285270Z",
     "iopub.status.idle": "2024-05-03T19:02:34.764084Z",
     "shell.execute_reply": "2024-05-03T19:02:34.762970Z"
    },
    "papermill": {
     "duration": 0.488755,
     "end_time": "2024-05-03T19:02:34.766683",
     "exception": false,
     "start_time": "2024-05-03T19:02:34.277928",
     "status": "completed"
    },
    "tags": []
   },
   "outputs": [],
   "source": [
    "df = pd.read_csv('/kaggle/input/szeged-weather/weatherHistory.csv')"
   ]
  },
  {
   "cell_type": "code",
   "execution_count": 3,
   "id": "fee100da",
   "metadata": {
    "execution": {
     "iopub.execute_input": "2024-05-03T19:02:34.782373Z",
     "iopub.status.busy": "2024-05-03T19:02:34.781353Z",
     "iopub.status.idle": "2024-05-03T19:02:34.811847Z",
     "shell.execute_reply": "2024-05-03T19:02:34.810798Z"
    },
    "papermill": {
     "duration": 0.041138,
     "end_time": "2024-05-03T19:02:34.814593",
     "exception": false,
     "start_time": "2024-05-03T19:02:34.773455",
     "status": "completed"
    },
    "tags": []
   },
   "outputs": [
    {
     "data": {
      "text/html": [
       "<div>\n",
       "<style scoped>\n",
       "    .dataframe tbody tr th:only-of-type {\n",
       "        vertical-align: middle;\n",
       "    }\n",
       "\n",
       "    .dataframe tbody tr th {\n",
       "        vertical-align: top;\n",
       "    }\n",
       "\n",
       "    .dataframe thead th {\n",
       "        text-align: right;\n",
       "    }\n",
       "</style>\n",
       "<table border=\"1\" class=\"dataframe\">\n",
       "  <thead>\n",
       "    <tr style=\"text-align: right;\">\n",
       "      <th></th>\n",
       "      <th>Formatted Date</th>\n",
       "      <th>Summary</th>\n",
       "      <th>Precip Type</th>\n",
       "      <th>Temperature (C)</th>\n",
       "      <th>Apparent Temperature (C)</th>\n",
       "      <th>Humidity</th>\n",
       "      <th>Wind Speed (km/h)</th>\n",
       "      <th>Wind Bearing (degrees)</th>\n",
       "      <th>Visibility (km)</th>\n",
       "      <th>Loud Cover</th>\n",
       "      <th>Pressure (millibars)</th>\n",
       "      <th>Daily Summary</th>\n",
       "    </tr>\n",
       "  </thead>\n",
       "  <tbody>\n",
       "    <tr>\n",
       "      <th>0</th>\n",
       "      <td>2006-04-01 00:00:00.000 +0200</td>\n",
       "      <td>Partly Cloudy</td>\n",
       "      <td>rain</td>\n",
       "      <td>9.472222</td>\n",
       "      <td>7.388889</td>\n",
       "      <td>0.89</td>\n",
       "      <td>14.1197</td>\n",
       "      <td>251.0</td>\n",
       "      <td>15.8263</td>\n",
       "      <td>0.0</td>\n",
       "      <td>1015.13</td>\n",
       "      <td>Partly cloudy throughout the day.</td>\n",
       "    </tr>\n",
       "    <tr>\n",
       "      <th>1</th>\n",
       "      <td>2006-04-01 01:00:00.000 +0200</td>\n",
       "      <td>Partly Cloudy</td>\n",
       "      <td>rain</td>\n",
       "      <td>9.355556</td>\n",
       "      <td>7.227778</td>\n",
       "      <td>0.86</td>\n",
       "      <td>14.2646</td>\n",
       "      <td>259.0</td>\n",
       "      <td>15.8263</td>\n",
       "      <td>0.0</td>\n",
       "      <td>1015.63</td>\n",
       "      <td>Partly cloudy throughout the day.</td>\n",
       "    </tr>\n",
       "    <tr>\n",
       "      <th>2</th>\n",
       "      <td>2006-04-01 02:00:00.000 +0200</td>\n",
       "      <td>Mostly Cloudy</td>\n",
       "      <td>rain</td>\n",
       "      <td>9.377778</td>\n",
       "      <td>9.377778</td>\n",
       "      <td>0.89</td>\n",
       "      <td>3.9284</td>\n",
       "      <td>204.0</td>\n",
       "      <td>14.9569</td>\n",
       "      <td>0.0</td>\n",
       "      <td>1015.94</td>\n",
       "      <td>Partly cloudy throughout the day.</td>\n",
       "    </tr>\n",
       "    <tr>\n",
       "      <th>3</th>\n",
       "      <td>2006-04-01 03:00:00.000 +0200</td>\n",
       "      <td>Partly Cloudy</td>\n",
       "      <td>rain</td>\n",
       "      <td>8.288889</td>\n",
       "      <td>5.944444</td>\n",
       "      <td>0.83</td>\n",
       "      <td>14.1036</td>\n",
       "      <td>269.0</td>\n",
       "      <td>15.8263</td>\n",
       "      <td>0.0</td>\n",
       "      <td>1016.41</td>\n",
       "      <td>Partly cloudy throughout the day.</td>\n",
       "    </tr>\n",
       "    <tr>\n",
       "      <th>4</th>\n",
       "      <td>2006-04-01 04:00:00.000 +0200</td>\n",
       "      <td>Mostly Cloudy</td>\n",
       "      <td>rain</td>\n",
       "      <td>8.755556</td>\n",
       "      <td>6.977778</td>\n",
       "      <td>0.83</td>\n",
       "      <td>11.0446</td>\n",
       "      <td>259.0</td>\n",
       "      <td>15.8263</td>\n",
       "      <td>0.0</td>\n",
       "      <td>1016.51</td>\n",
       "      <td>Partly cloudy throughout the day.</td>\n",
       "    </tr>\n",
       "  </tbody>\n",
       "</table>\n",
       "</div>"
      ],
      "text/plain": [
       "                  Formatted Date        Summary Precip Type  Temperature (C)  \\\n",
       "0  2006-04-01 00:00:00.000 +0200  Partly Cloudy        rain         9.472222   \n",
       "1  2006-04-01 01:00:00.000 +0200  Partly Cloudy        rain         9.355556   \n",
       "2  2006-04-01 02:00:00.000 +0200  Mostly Cloudy        rain         9.377778   \n",
       "3  2006-04-01 03:00:00.000 +0200  Partly Cloudy        rain         8.288889   \n",
       "4  2006-04-01 04:00:00.000 +0200  Mostly Cloudy        rain         8.755556   \n",
       "\n",
       "   Apparent Temperature (C)  Humidity  Wind Speed (km/h)  \\\n",
       "0                  7.388889      0.89            14.1197   \n",
       "1                  7.227778      0.86            14.2646   \n",
       "2                  9.377778      0.89             3.9284   \n",
       "3                  5.944444      0.83            14.1036   \n",
       "4                  6.977778      0.83            11.0446   \n",
       "\n",
       "   Wind Bearing (degrees)  Visibility (km)  Loud Cover  Pressure (millibars)  \\\n",
       "0                   251.0          15.8263         0.0               1015.13   \n",
       "1                   259.0          15.8263         0.0               1015.63   \n",
       "2                   204.0          14.9569         0.0               1015.94   \n",
       "3                   269.0          15.8263         0.0               1016.41   \n",
       "4                   259.0          15.8263         0.0               1016.51   \n",
       "\n",
       "                       Daily Summary  \n",
       "0  Partly cloudy throughout the day.  \n",
       "1  Partly cloudy throughout the day.  \n",
       "2  Partly cloudy throughout the day.  \n",
       "3  Partly cloudy throughout the day.  \n",
       "4  Partly cloudy throughout the day.  "
      ]
     },
     "execution_count": 3,
     "metadata": {},
     "output_type": "execute_result"
    }
   ],
   "source": [
    "df.head()"
   ]
  },
  {
   "cell_type": "markdown",
   "id": "fcc44a81",
   "metadata": {
    "papermill": {
     "duration": 0.006495,
     "end_time": "2024-05-03T19:02:34.827997",
     "exception": false,
     "start_time": "2024-05-03T19:02:34.821502",
     "status": "completed"
    },
    "tags": []
   },
   "source": [
    "# **Exploração do banco de dados**"
   ]
  },
  {
   "cell_type": "code",
   "execution_count": 4,
   "id": "0931cd3a",
   "metadata": {
    "execution": {
     "iopub.execute_input": "2024-05-03T19:02:34.843502Z",
     "iopub.status.busy": "2024-05-03T19:02:34.842899Z",
     "iopub.status.idle": "2024-05-03T19:02:34.872022Z",
     "shell.execute_reply": "2024-05-03T19:02:34.870979Z"
    },
    "papermill": {
     "duration": 0.039143,
     "end_time": "2024-05-03T19:02:34.873945",
     "exception": false,
     "start_time": "2024-05-03T19:02:34.834802",
     "status": "completed"
    },
    "tags": []
   },
   "outputs": [
    {
     "data": {
      "text/plain": [
       "Formatted Date                0\n",
       "Summary                       0\n",
       "Precip Type                 517\n",
       "Temperature (C)               0\n",
       "Apparent Temperature (C)      0\n",
       "Humidity                      0\n",
       "Wind Speed (km/h)             0\n",
       "Wind Bearing (degrees)        0\n",
       "Visibility (km)               0\n",
       "Loud Cover                    0\n",
       "Pressure (millibars)          0\n",
       "Daily Summary                 0\n",
       "dtype: int64"
      ]
     },
     "execution_count": 4,
     "metadata": {},
     "output_type": "execute_result"
    }
   ],
   "source": [
    "df.isnull().sum()"
   ]
  },
  {
   "cell_type": "code",
   "execution_count": 5,
   "id": "54876284",
   "metadata": {
    "execution": {
     "iopub.execute_input": "2024-05-03T19:02:34.890328Z",
     "iopub.status.busy": "2024-05-03T19:02:34.889773Z",
     "iopub.status.idle": "2024-05-03T19:02:34.955534Z",
     "shell.execute_reply": "2024-05-03T19:02:34.954425Z"
    },
    "papermill": {
     "duration": 0.076879,
     "end_time": "2024-05-03T19:02:34.957665",
     "exception": false,
     "start_time": "2024-05-03T19:02:34.880786",
     "status": "completed"
    },
    "tags": []
   },
   "outputs": [
    {
     "data": {
      "text/html": [
       "<div>\n",
       "<style scoped>\n",
       "    .dataframe tbody tr th:only-of-type {\n",
       "        vertical-align: middle;\n",
       "    }\n",
       "\n",
       "    .dataframe tbody tr th {\n",
       "        vertical-align: top;\n",
       "    }\n",
       "\n",
       "    .dataframe thead th {\n",
       "        text-align: right;\n",
       "    }\n",
       "</style>\n",
       "<table border=\"1\" class=\"dataframe\">\n",
       "  <thead>\n",
       "    <tr style=\"text-align: right;\">\n",
       "      <th></th>\n",
       "      <th>Temperature (C)</th>\n",
       "      <th>Apparent Temperature (C)</th>\n",
       "      <th>Humidity</th>\n",
       "      <th>Wind Speed (km/h)</th>\n",
       "      <th>Wind Bearing (degrees)</th>\n",
       "      <th>Visibility (km)</th>\n",
       "      <th>Loud Cover</th>\n",
       "      <th>Pressure (millibars)</th>\n",
       "    </tr>\n",
       "  </thead>\n",
       "  <tbody>\n",
       "    <tr>\n",
       "      <th>count</th>\n",
       "      <td>96453.000000</td>\n",
       "      <td>96453.000000</td>\n",
       "      <td>96453.000000</td>\n",
       "      <td>96453.000000</td>\n",
       "      <td>96453.000000</td>\n",
       "      <td>96453.000000</td>\n",
       "      <td>96453.0</td>\n",
       "      <td>96453.000000</td>\n",
       "    </tr>\n",
       "    <tr>\n",
       "      <th>mean</th>\n",
       "      <td>11.932678</td>\n",
       "      <td>10.855029</td>\n",
       "      <td>0.734899</td>\n",
       "      <td>10.810640</td>\n",
       "      <td>187.509232</td>\n",
       "      <td>10.347325</td>\n",
       "      <td>0.0</td>\n",
       "      <td>1003.235956</td>\n",
       "    </tr>\n",
       "    <tr>\n",
       "      <th>std</th>\n",
       "      <td>9.551546</td>\n",
       "      <td>10.696847</td>\n",
       "      <td>0.195473</td>\n",
       "      <td>6.913571</td>\n",
       "      <td>107.383428</td>\n",
       "      <td>4.192123</td>\n",
       "      <td>0.0</td>\n",
       "      <td>116.969906</td>\n",
       "    </tr>\n",
       "    <tr>\n",
       "      <th>min</th>\n",
       "      <td>-21.822222</td>\n",
       "      <td>-27.716667</td>\n",
       "      <td>0.000000</td>\n",
       "      <td>0.000000</td>\n",
       "      <td>0.000000</td>\n",
       "      <td>0.000000</td>\n",
       "      <td>0.0</td>\n",
       "      <td>0.000000</td>\n",
       "    </tr>\n",
       "    <tr>\n",
       "      <th>25%</th>\n",
       "      <td>4.688889</td>\n",
       "      <td>2.311111</td>\n",
       "      <td>0.600000</td>\n",
       "      <td>5.828200</td>\n",
       "      <td>116.000000</td>\n",
       "      <td>8.339800</td>\n",
       "      <td>0.0</td>\n",
       "      <td>1011.900000</td>\n",
       "    </tr>\n",
       "    <tr>\n",
       "      <th>50%</th>\n",
       "      <td>12.000000</td>\n",
       "      <td>12.000000</td>\n",
       "      <td>0.780000</td>\n",
       "      <td>9.965900</td>\n",
       "      <td>180.000000</td>\n",
       "      <td>10.046400</td>\n",
       "      <td>0.0</td>\n",
       "      <td>1016.450000</td>\n",
       "    </tr>\n",
       "    <tr>\n",
       "      <th>75%</th>\n",
       "      <td>18.838889</td>\n",
       "      <td>18.838889</td>\n",
       "      <td>0.890000</td>\n",
       "      <td>14.135800</td>\n",
       "      <td>290.000000</td>\n",
       "      <td>14.812000</td>\n",
       "      <td>0.0</td>\n",
       "      <td>1021.090000</td>\n",
       "    </tr>\n",
       "    <tr>\n",
       "      <th>max</th>\n",
       "      <td>39.905556</td>\n",
       "      <td>39.344444</td>\n",
       "      <td>1.000000</td>\n",
       "      <td>63.852600</td>\n",
       "      <td>359.000000</td>\n",
       "      <td>16.100000</td>\n",
       "      <td>0.0</td>\n",
       "      <td>1046.380000</td>\n",
       "    </tr>\n",
       "  </tbody>\n",
       "</table>\n",
       "</div>"
      ],
      "text/plain": [
       "       Temperature (C)  Apparent Temperature (C)      Humidity  \\\n",
       "count     96453.000000              96453.000000  96453.000000   \n",
       "mean         11.932678                 10.855029      0.734899   \n",
       "std           9.551546                 10.696847      0.195473   \n",
       "min         -21.822222                -27.716667      0.000000   \n",
       "25%           4.688889                  2.311111      0.600000   \n",
       "50%          12.000000                 12.000000      0.780000   \n",
       "75%          18.838889                 18.838889      0.890000   \n",
       "max          39.905556                 39.344444      1.000000   \n",
       "\n",
       "       Wind Speed (km/h)  Wind Bearing (degrees)  Visibility (km)  Loud Cover  \\\n",
       "count       96453.000000            96453.000000     96453.000000     96453.0   \n",
       "mean           10.810640              187.509232        10.347325         0.0   \n",
       "std             6.913571              107.383428         4.192123         0.0   \n",
       "min             0.000000                0.000000         0.000000         0.0   \n",
       "25%             5.828200              116.000000         8.339800         0.0   \n",
       "50%             9.965900              180.000000        10.046400         0.0   \n",
       "75%            14.135800              290.000000        14.812000         0.0   \n",
       "max            63.852600              359.000000        16.100000         0.0   \n",
       "\n",
       "       Pressure (millibars)  \n",
       "count          96453.000000  \n",
       "mean            1003.235956  \n",
       "std              116.969906  \n",
       "min                0.000000  \n",
       "25%             1011.900000  \n",
       "50%             1016.450000  \n",
       "75%             1021.090000  \n",
       "max             1046.380000  "
      ]
     },
     "execution_count": 5,
     "metadata": {},
     "output_type": "execute_result"
    }
   ],
   "source": [
    "df.describe()"
   ]
  },
  {
   "cell_type": "code",
   "execution_count": 6,
   "id": "86f82fb3",
   "metadata": {
    "execution": {
     "iopub.execute_input": "2024-05-03T19:02:34.973874Z",
     "iopub.status.busy": "2024-05-03T19:02:34.973273Z",
     "iopub.status.idle": "2024-05-03T19:02:36.186769Z",
     "shell.execute_reply": "2024-05-03T19:02:36.185630Z"
    },
    "papermill": {
     "duration": 1.224669,
     "end_time": "2024-05-03T19:02:36.189472",
     "exception": false,
     "start_time": "2024-05-03T19:02:34.964803",
     "status": "completed"
    },
    "tags": []
   },
   "outputs": [
    {
     "data": {
      "text/plain": [
       "array([[<Axes: title={'center': 'Temperature (C)'}>,\n",
       "        <Axes: title={'center': 'Apparent Temperature (C)'}>,\n",
       "        <Axes: title={'center': 'Humidity'}>],\n",
       "       [<Axes: title={'center': 'Wind Speed (km/h)'}>,\n",
       "        <Axes: title={'center': 'Wind Bearing (degrees)'}>,\n",
       "        <Axes: title={'center': 'Visibility (km)'}>],\n",
       "       [<Axes: title={'center': 'Loud Cover'}>,\n",
       "        <Axes: title={'center': 'Pressure (millibars)'}>, <Axes: >]],\n",
       "      dtype=object)"
      ]
     },
     "execution_count": 6,
     "metadata": {},
     "output_type": "execute_result"
    },
    {
     "data": {
      "image/png": "[encoded data removed]",
      "text/plain": [
       "<Figure size 640x480 with 9 Axes>"
      ]
     },
     "metadata": {},
     "output_type": "display_data"
    }
   ],
   "source": [
    "df.hist(bins=3)"
   ]
  },
  {
   "cell_type": "code",
   "execution_count": 7,
   "id": "cb009537",
   "metadata": {
    "execution": {
     "iopub.execute_input": "2024-05-03T19:02:36.207874Z",
     "iopub.status.busy": "2024-05-03T19:02:36.207428Z",
     "iopub.status.idle": "2024-05-03T19:02:36.214273Z",
     "shell.execute_reply": "2024-05-03T19:02:36.213598Z"
    },
    "papermill": {
     "duration": 0.018404,
     "end_time": "2024-05-03T19:02:36.216078",
     "exception": false,
     "start_time": "2024-05-03T19:02:36.197674",
     "status": "completed"
    },
    "tags": []
   },
   "outputs": [
    {
     "data": {
      "text/plain": [
       "Formatted Date               object\n",
       "Summary                      object\n",
       "Precip Type                  object\n",
       "Temperature (C)             float64\n",
       "Apparent Temperature (C)    float64\n",
       "Humidity                    float64\n",
       "Wind Speed (km/h)           float64\n",
       "Wind Bearing (degrees)      float64\n",
       "Visibility (km)             float64\n",
       "Loud Cover                  float64\n",
       "Pressure (millibars)        float64\n",
       "Daily Summary                object\n",
       "dtype: object"
      ]
     },
     "execution_count": 7,
     "metadata": {},
     "output_type": "execute_result"
    }
   ],
   "source": [
    "df.dtypes"
   ]
  },
  {
   "cell_type": "code",
   "execution_count": 8,
   "id": "48f6aa27",
   "metadata": {
    "execution": {
     "iopub.execute_input": "2024-05-03T19:02:36.234586Z",
     "iopub.status.busy": "2024-05-03T19:02:36.233678Z",
     "iopub.status.idle": "2024-05-03T19:02:36.238359Z",
     "shell.execute_reply": "2024-05-03T19:02:36.237683Z"
    },
    "papermill": {
     "duration": 0.015722,
     "end_time": "2024-05-03T19:02:36.240243",
     "exception": false,
     "start_time": "2024-05-03T19:02:36.224521",
     "status": "completed"
    },
    "tags": []
   },
   "outputs": [],
   "source": [
    "colunas_categoricas = []\n",
    "def object(dataframe):\n",
    "    for columns in dataframe.columns:\n",
    "        if dataframe[columns].dtype == 'object':\n",
    "            colunas_categoricas.append(columns)\n",
    "        \n",
    "    return colunas_categoricas"
   ]
  },
  {
   "cell_type": "code",
   "execution_count": 9,
   "id": "ad1f7fab",
   "metadata": {
    "execution": {
     "iopub.execute_input": "2024-05-03T19:02:36.258106Z",
     "iopub.status.busy": "2024-05-03T19:02:36.257569Z",
     "iopub.status.idle": "2024-05-03T19:02:36.261914Z",
     "shell.execute_reply": "2024-05-03T19:02:36.261166Z"
    },
    "papermill": {
     "duration": 0.015422,
     "end_time": "2024-05-03T19:02:36.263764",
     "exception": false,
     "start_time": "2024-05-03T19:02:36.248342",
     "status": "completed"
    },
    "tags": []
   },
   "outputs": [],
   "source": [
    "colunas_object = object(df)"
   ]
  },
  {
   "cell_type": "code",
   "execution_count": 10,
   "id": "71e21170",
   "metadata": {
    "execution": {
     "iopub.execute_input": "2024-05-03T19:02:36.281776Z",
     "iopub.status.busy": "2024-05-03T19:02:36.281147Z",
     "iopub.status.idle": "2024-05-03T19:02:36.345063Z",
     "shell.execute_reply": "2024-05-03T19:02:36.344015Z"
    },
    "papermill": {
     "duration": 0.075343,
     "end_time": "2024-05-03T19:02:36.347222",
     "exception": false,
     "start_time": "2024-05-03T19:02:36.271879",
     "status": "completed"
    },
    "tags": []
   },
   "outputs": [
    {
     "data": {
      "text/plain": [
       "Formatted Date    96429\n",
       "Summary              27\n",
       "Precip Type           2\n",
       "Daily Summary       214\n",
       "dtype: int64"
      ]
     },
     "execution_count": 10,
     "metadata": {},
     "output_type": "execute_result"
    }
   ],
   "source": [
    "df[colunas_object].nunique()"
   ]
  },
  {
   "cell_type": "markdown",
   "id": "f849a250",
   "metadata": {
    "papermill": {
     "duration": 0.008125,
     "end_time": "2024-05-03T19:02:36.363951",
     "exception": false,
     "start_time": "2024-05-03T19:02:36.355826",
     "status": "completed"
    },
    "tags": []
   },
   "source": [
    "# **Limpeza do banco de dados**"
   ]
  },
  {
   "cell_type": "code",
   "execution_count": 11,
   "id": "d6228d14",
   "metadata": {
    "execution": {
     "iopub.execute_input": "2024-05-03T19:02:36.382797Z",
     "iopub.status.busy": "2024-05-03T19:02:36.382393Z",
     "iopub.status.idle": "2024-05-03T19:02:36.393758Z",
     "shell.execute_reply": "2024-05-03T19:02:36.393068Z"
    },
    "papermill": {
     "duration": 0.023366,
     "end_time": "2024-05-03T19:02:36.395646",
     "exception": false,
     "start_time": "2024-05-03T19:02:36.372280",
     "status": "completed"
    },
    "tags": []
   },
   "outputs": [
    {
     "data": {
      "text/html": [
       "<div>\n",
       "<style scoped>\n",
       "    .dataframe tbody tr th:only-of-type {\n",
       "        vertical-align: middle;\n",
       "    }\n",
       "\n",
       "    .dataframe tbody tr th {\n",
       "        vertical-align: top;\n",
       "    }\n",
       "\n",
       "    .dataframe thead th {\n",
       "        text-align: right;\n",
       "    }\n",
       "</style>\n",
       "<table border=\"1\" class=\"dataframe\">\n",
       "  <thead>\n",
       "    <tr style=\"text-align: right;\">\n",
       "      <th></th>\n",
       "      <th>Formatted Date</th>\n",
       "    </tr>\n",
       "  </thead>\n",
       "  <tbody>\n",
       "    <tr>\n",
       "      <th>0</th>\n",
       "      <td>2006-04-01 00:00:00.000 +0200</td>\n",
       "    </tr>\n",
       "    <tr>\n",
       "      <th>1</th>\n",
       "      <td>2006-04-01 01:00:00.000 +0200</td>\n",
       "    </tr>\n",
       "    <tr>\n",
       "      <th>2</th>\n",
       "      <td>2006-04-01 02:00:00.000 +0200</td>\n",
       "    </tr>\n",
       "    <tr>\n",
       "      <th>3</th>\n",
       "      <td>2006-04-01 03:00:00.000 +0200</td>\n",
       "    </tr>\n",
       "    <tr>\n",
       "      <th>4</th>\n",
       "      <td>2006-04-01 04:00:00.000 +0200</td>\n",
       "    </tr>\n",
       "    <tr>\n",
       "      <th>...</th>\n",
       "      <td>...</td>\n",
       "    </tr>\n",
       "    <tr>\n",
       "      <th>96448</th>\n",
       "      <td>2016-09-09 19:00:00.000 +0200</td>\n",
       "    </tr>\n",
       "    <tr>\n",
       "      <th>96449</th>\n",
       "      <td>2016-09-09 20:00:00.000 +0200</td>\n",
       "    </tr>\n",
       "    <tr>\n",
       "      <th>96450</th>\n",
       "      <td>2016-09-09 21:00:00.000 +0200</td>\n",
       "    </tr>\n",
       "    <tr>\n",
       "      <th>96451</th>\n",
       "      <td>2016-09-09 22:00:00.000 +0200</td>\n",
       "    </tr>\n",
       "    <tr>\n",
       "      <th>96452</th>\n",
       "      <td>2016-09-09 23:00:00.000 +0200</td>\n",
       "    </tr>\n",
       "  </tbody>\n",
       "</table>\n",
       "<p>96453 rows × 1 columns</p>\n",
       "</div>"
      ],
      "text/plain": [
       "                      Formatted Date\n",
       "0      2006-04-01 00:00:00.000 +0200\n",
       "1      2006-04-01 01:00:00.000 +0200\n",
       "2      2006-04-01 02:00:00.000 +0200\n",
       "3      2006-04-01 03:00:00.000 +0200\n",
       "4      2006-04-01 04:00:00.000 +0200\n",
       "...                              ...\n",
       "96448  2016-09-09 19:00:00.000 +0200\n",
       "96449  2016-09-09 20:00:00.000 +0200\n",
       "96450  2016-09-09 21:00:00.000 +0200\n",
       "96451  2016-09-09 22:00:00.000 +0200\n",
       "96452  2016-09-09 23:00:00.000 +0200\n",
       "\n",
       "[96453 rows x 1 columns]"
      ]
     },
     "execution_count": 11,
     "metadata": {},
     "output_type": "execute_result"
    }
   ],
   "source": [
    "df[['Formatted Date']]"
   ]
  },
  {
   "cell_type": "code",
   "execution_count": 12,
   "id": "70f6a475",
   "metadata": {
    "execution": {
     "iopub.execute_input": "2024-05-03T19:02:36.414244Z",
     "iopub.status.busy": "2024-05-03T19:02:36.413670Z",
     "iopub.status.idle": "2024-05-03T19:02:36.808132Z",
     "shell.execute_reply": "2024-05-03T19:02:36.807164Z"
    },
    "papermill": {
     "duration": 0.406535,
     "end_time": "2024-05-03T19:02:36.810622",
     "exception": false,
     "start_time": "2024-05-03T19:02:36.404087",
     "status": "completed"
    },
    "tags": []
   },
   "outputs": [],
   "source": [
    "\n",
    "df['Formatted Date'] = df['Formatted Date'].str.replace(r'\\+0200', '', regex=True)\n",
    "\n",
    "df['Formatted Date'] = pd.to_datetime(df['Formatted Date'], utc=True, format='mixed')\n",
    "\n"
   ]
  },
  {
   "cell_type": "code",
   "execution_count": 13,
   "id": "adabbd6f",
   "metadata": {
    "execution": {
     "iopub.execute_input": "2024-05-03T19:02:36.829582Z",
     "iopub.status.busy": "2024-05-03T19:02:36.829219Z",
     "iopub.status.idle": "2024-05-03T19:02:36.847145Z",
     "shell.execute_reply": "2024-05-03T19:02:36.846286Z"
    },
    "papermill": {
     "duration": 0.029971,
     "end_time": "2024-05-03T19:02:36.849331",
     "exception": false,
     "start_time": "2024-05-03T19:02:36.819360",
     "status": "completed"
    },
    "tags": []
   },
   "outputs": [],
   "source": [
    "df['hour'] = df['Formatted Date'].dt.hour\n",
    "df['day']  = df['Formatted Date'].dt.day\n",
    "df['month']= df['Formatted Date'].dt.month\n",
    "df['year'] = df['Formatted Date'].dt.year"
   ]
  },
  {
   "cell_type": "code",
   "execution_count": 14,
   "id": "75dabf30",
   "metadata": {
    "execution": {
     "iopub.execute_input": "2024-05-03T19:02:36.868431Z",
     "iopub.status.busy": "2024-05-03T19:02:36.868029Z",
     "iopub.status.idle": "2024-05-03T19:02:36.900141Z",
     "shell.execute_reply": "2024-05-03T19:02:36.898756Z"
    },
    "papermill": {
     "duration": 0.044378,
     "end_time": "2024-05-03T19:02:36.902373",
     "exception": false,
     "start_time": "2024-05-03T19:02:36.857995",
     "status": "completed"
    },
    "tags": []
   },
   "outputs": [
    {
     "name": "stdout",
     "output_type": "stream",
     "text": [
      "<class 'pandas.core.frame.DataFrame'>\n",
      "RangeIndex: 96453 entries, 0 to 96452\n",
      "Data columns (total 16 columns):\n",
      " #   Column                    Non-Null Count  Dtype              \n",
      "---  ------                    --------------  -----              \n",
      " 0   Formatted Date            96453 non-null  datetime64[ns, UTC]\n",
      " 1   Summary                   96453 non-null  object             \n",
      " 2   Precip Type               95936 non-null  object             \n",
      " 3   Temperature (C)           96453 non-null  float64            \n",
      " 4   Apparent Temperature (C)  96453 non-null  float64            \n",
      " 5   Humidity                  96453 non-null  float64            \n",
      " 6   Wind Speed (km/h)         96453 non-null  float64            \n",
      " 7   Wind Bearing (degrees)    96453 non-null  float64            \n",
      " 8   Visibility (km)           96453 non-null  float64            \n",
      " 9   Loud Cover                96453 non-null  float64            \n",
      " 10  Pressure (millibars)      96453 non-null  float64            \n",
      " 11  Daily Summary             96453 non-null  object             \n",
      " 12  hour                      96453 non-null  int32              \n",
      " 13  day                       96453 non-null  int32              \n",
      " 14  month                     96453 non-null  int32              \n",
      " 15  year                      96453 non-null  int32              \n",
      "dtypes: datetime64[ns, UTC](1), float64(8), int32(4), object(3)\n",
      "memory usage: 10.3+ MB\n"
     ]
    }
   ],
   "source": [
    "df.info()"
   ]
  },
  {
   "cell_type": "code",
   "execution_count": 15,
   "id": "8aa4681b",
   "metadata": {
    "execution": {
     "iopub.execute_input": "2024-05-03T19:02:36.921938Z",
     "iopub.status.busy": "2024-05-03T19:02:36.921124Z",
     "iopub.status.idle": "2024-05-03T19:02:36.937273Z",
     "shell.execute_reply": "2024-05-03T19:02:36.936161Z"
    },
    "papermill": {
     "duration": 0.028813,
     "end_time": "2024-05-03T19:02:36.940013",
     "exception": false,
     "start_time": "2024-05-03T19:02:36.911200",
     "status": "completed"
    },
    "tags": []
   },
   "outputs": [],
   "source": [
    "df.drop('Formatted Date' , axis=1 , inplace=True)"
   ]
  },
  {
   "cell_type": "code",
   "execution_count": 16,
   "id": "a3788b0c",
   "metadata": {
    "execution": {
     "iopub.execute_input": "2024-05-03T19:02:36.958891Z",
     "iopub.status.busy": "2024-05-03T19:02:36.958545Z",
     "iopub.status.idle": "2024-05-03T19:02:36.973540Z",
     "shell.execute_reply": "2024-05-03T19:02:36.972665Z"
    },
    "papermill": {
     "duration": 0.026811,
     "end_time": "2024-05-03T19:02:36.975709",
     "exception": false,
     "start_time": "2024-05-03T19:02:36.948898",
     "status": "completed"
    },
    "tags": []
   },
   "outputs": [],
   "source": [
    "df.drop('Loud Cover', axis=1 , inplace=True)"
   ]
  },
  {
   "cell_type": "code",
   "execution_count": 17,
   "id": "28548345",
   "metadata": {
    "execution": {
     "iopub.execute_input": "2024-05-03T19:02:36.994560Z",
     "iopub.status.busy": "2024-05-03T19:02:36.994186Z",
     "iopub.status.idle": "2024-05-03T19:02:37.003348Z",
     "shell.execute_reply": "2024-05-03T19:02:37.002436Z"
    },
    "papermill": {
     "duration": 0.021209,
     "end_time": "2024-05-03T19:02:37.005546",
     "exception": false,
     "start_time": "2024-05-03T19:02:36.984337",
     "status": "completed"
    },
    "tags": []
   },
   "outputs": [],
   "source": [
    "y = df['Daily Summary']\n",
    "X = df.drop('Daily Summary' , axis = 1)"
   ]
  },
  {
   "cell_type": "code",
   "execution_count": 18,
   "id": "76f6ee5b",
   "metadata": {
    "execution": {
     "iopub.execute_input": "2024-05-03T19:02:37.024312Z",
     "iopub.status.busy": "2024-05-03T19:02:37.023952Z",
     "iopub.status.idle": "2024-05-03T19:02:38.521070Z",
     "shell.execute_reply": "2024-05-03T19:02:38.519941Z"
    },
    "papermill": {
     "duration": 1.509329,
     "end_time": "2024-05-03T19:02:38.523580",
     "exception": false,
     "start_time": "2024-05-03T19:02:37.014251",
     "status": "completed"
    },
    "tags": []
   },
   "outputs": [],
   "source": [
    "from sklearn.pipeline import Pipeline\n",
    "from sklearn.impute import SimpleImputer\n",
    "from sklearn.preprocessing import OneHotEncoder\n",
    "from sklearn.compose import ColumnTransformer\n",
    "from sklearn.preprocessing import StandardScaler\n",
    "from sklearn.ensemble import RandomForestClassifier\n",
    "\n",
    "\n",
    "modelo_Classifier = RandomForestClassifier()\n",
    "coluna_categorica = [coluna for coluna in df.columns if df[coluna].dtype=='object']\n",
    "coluna_numericas = [coluna for coluna in df.columns if df[coluna].dtype != 'object']\n",
    "coluna_categorica.remove('Daily Summary')\n",
    "\n",
    "\n",
    "variavel_numerica = Pipeline([('imputer', SimpleImputer(strategy='median'))])\n",
    "                             \n",
    "\n",
    "\n",
    "variavel_categorica = Pipeline([('imputer', SimpleImputer(strategy='most_frequent')),('onehotencoder', OneHotEncoder(handle_unknown='ignore'))])\n",
    "\n",
    "\n",
    "\n",
    "preprocessador = ColumnTransformer(transformers=[('num' ,variavel_numerica , coluna_numericas) ,\n",
    "                                                ('cat' , variavel_categorica , coluna_categorica)])\n",
    "\n",
    "pipeline = Pipeline(steps=[('preprocessador', preprocessador) ,\n",
    "                          ])\n",
    "\n",
    "\n"
   ]
  },
  {
   "cell_type": "code",
   "execution_count": 19,
   "id": "82f8d269",
   "metadata": {
    "execution": {
     "iopub.execute_input": "2024-05-03T19:02:38.544360Z",
     "iopub.status.busy": "2024-05-03T19:02:38.543103Z",
     "iopub.status.idle": "2024-05-03T19:02:38.583661Z",
     "shell.execute_reply": "2024-05-03T19:02:38.582443Z"
    },
    "papermill": {
     "duration": 0.053588,
     "end_time": "2024-05-03T19:02:38.586241",
     "exception": false,
     "start_time": "2024-05-03T19:02:38.532653",
     "status": "completed"
    },
    "tags": []
   },
   "outputs": [],
   "source": [
    "from sklearn.model_selection import train_test_split\n",
    "\n",
    "X_train , X_val , y_train , y_val = train_test_split(X,y, test_size=0.3 )"
   ]
  },
  {
   "cell_type": "code",
   "execution_count": 20,
   "id": "73f7e6a8",
   "metadata": {
    "execution": {
     "iopub.execute_input": "2024-05-03T19:02:38.613614Z",
     "iopub.status.busy": "2024-05-03T19:02:38.611528Z",
     "iopub.status.idle": "2024-05-03T19:02:38.874380Z",
     "shell.execute_reply": "2024-05-03T19:02:38.873417Z"
    },
    "papermill": {
     "duration": 0.281679,
     "end_time": "2024-05-03T19:02:38.876797",
     "exception": false,
     "start_time": "2024-05-03T19:02:38.595118",
     "status": "completed"
    },
    "tags": []
   },
   "outputs": [],
   "source": [
    "# Ajuste a pipeline usando apenas as features de treino\n",
    "X_train = pipeline.fit_transform(X_train)\n",
    "\n",
    "# Transforme as features de teste\n",
    "X_val = pipeline.transform(X_val)"
   ]
  },
  {
   "cell_type": "code",
   "execution_count": 21,
   "id": "185eb9c7",
   "metadata": {
    "execution": {
     "iopub.execute_input": "2024-05-03T19:02:38.896308Z",
     "iopub.status.busy": "2024-05-03T19:02:38.895429Z",
     "iopub.status.idle": "2024-05-03T19:02:38.901705Z",
     "shell.execute_reply": "2024-05-03T19:02:38.900453Z"
    },
    "papermill": {
     "duration": 0.018278,
     "end_time": "2024-05-03T19:02:38.903747",
     "exception": false,
     "start_time": "2024-05-03T19:02:38.885469",
     "status": "completed"
    },
    "tags": []
   },
   "outputs": [
    {
     "name": "stdout",
     "output_type": "stream",
     "text": [
      "Shape of X_train: float64\n",
      "Data type of elements in X_train: float64\n"
     ]
    }
   ],
   "source": [
    "import numpy as np\n",
    "\n",
    "# Verifique a forma do array\n",
    "print(\"Shape of X_train:\", X_train.dtype)\n",
    "\n",
    "# Verifique o tipo de dados dos elementos do array\n",
    "print(\"Data type of elements in X_train:\", X_train.dtype)\n"
   ]
  },
  {
   "cell_type": "code",
   "execution_count": 22,
   "id": "16e29ccb",
   "metadata": {
    "execution": {
     "iopub.execute_input": "2024-05-03T19:02:38.923187Z",
     "iopub.status.busy": "2024-05-03T19:02:38.922492Z",
     "iopub.status.idle": "2024-05-03T19:02:51.387356Z",
     "shell.execute_reply": "2024-05-03T19:02:51.386133Z"
    },
    "papermill": {
     "duration": 12.477638,
     "end_time": "2024-05-03T19:02:51.390171",
     "exception": false,
     "start_time": "2024-05-03T19:02:38.912533",
     "status": "completed"
    },
    "tags": []
   },
   "outputs": [
    {
     "name": "stderr",
     "output_type": "stream",
     "text": [
      "2024-05-03 19:02:40.971863: E external/local_xla/xla/stream_executor/cuda/cuda_dnn.cc:9261] Unable to register cuDNN factory: Attempting to register factory for plugin cuDNN when one has already been registered\n",
      "2024-05-03 19:02:40.971991: E external/local_xla/xla/stream_executor/cuda/cuda_fft.cc:607] Unable to register cuFFT factory: Attempting to register factory for plugin cuFFT when one has already been registered\n",
      "2024-05-03 19:02:41.122563: E external/local_xla/xla/stream_executor/cuda/cuda_blas.cc:1515] Unable to register cuBLAS factory: Attempting to register factory for plugin cuBLAS when one has already been registered\n"
     ]
    }
   ],
   "source": [
    "from tensorflow import keras\n",
    "from tensorflow.keras import layers"
   ]
  },
  {
   "cell_type": "code",
   "execution_count": 23,
   "id": "8a5d6700",
   "metadata": {
    "execution": {
     "iopub.execute_input": "2024-05-03T19:02:51.410881Z",
     "iopub.status.busy": "2024-05-03T19:02:51.409999Z",
     "iopub.status.idle": "2024-05-03T19:02:51.529683Z",
     "shell.execute_reply": "2024-05-03T19:02:51.528553Z"
    },
    "papermill": {
     "duration": 0.132483,
     "end_time": "2024-05-03T19:02:51.532102",
     "exception": false,
     "start_time": "2024-05-03T19:02:51.399619",
     "status": "completed"
    },
    "tags": []
   },
   "outputs": [
    {
     "name": "stderr",
     "output_type": "stream",
     "text": [
      "/opt/conda/lib/python3.10/site-packages/keras/src/layers/core/dense.py:86: UserWarning: Do not pass an `input_shape`/`input_dim` argument to a layer. When using Sequential models, prefer using an `Input(shape)` object as the first layer in the model instead.\n",
      "  super().__init__(activity_regularizer=activity_regularizer, **kwargs)\n"
     ]
    }
   ],
   "source": [
    "modelo = keras.Sequential([layers.Dense(256 , activation='relu' , input_shape = [39]),\n",
    "                          layers.Dropout(0.3),\n",
    "                          layers.BatchNormalization(),\n",
    "                          layers.Dense(256 , activation='relu'),\n",
    "                          layers.Dropout(0.3),\n",
    "                          layers.BatchNormalization(),\n",
    "                          layers.Dense(256 , activation='relu'),\n",
    "                          layers.Dropout(0.3),\n",
    "                          layers.BatchNormalization(),\n",
    "                          layers.Dense(1 , activation='linear')])"
   ]
  },
  {
   "cell_type": "code",
   "execution_count": 24,
   "id": "637a6390",
   "metadata": {
    "execution": {
     "iopub.execute_input": "2024-05-03T19:02:51.556935Z",
     "iopub.status.busy": "2024-05-03T19:02:51.556083Z",
     "iopub.status.idle": "2024-05-03T19:02:51.572219Z",
     "shell.execute_reply": "2024-05-03T19:02:51.571185Z"
    },
    "papermill": {
     "duration": 0.031506,
     "end_time": "2024-05-03T19:02:51.574650",
     "exception": false,
     "start_time": "2024-05-03T19:02:51.543144",
     "status": "completed"
    },
    "tags": []
   },
   "outputs": [],
   "source": [
    "modelo.compile(\n",
    "    optimizer='adam',\n",
    "    loss='mae')"
   ]
  },
  {
   "cell_type": "code",
   "execution_count": 25,
   "id": "030f449e",
   "metadata": {
    "execution": {
     "iopub.execute_input": "2024-05-03T19:02:51.594365Z",
     "iopub.status.busy": "2024-05-03T19:02:51.593975Z",
     "iopub.status.idle": "2024-05-03T19:02:52.384487Z",
     "shell.execute_reply": "2024-05-03T19:02:52.382775Z"
    },
    "papermill": {
     "duration": 0.802747,
     "end_time": "2024-05-03T19:02:52.386526",
     "exception": true,
     "start_time": "2024-05-03T19:02:51.583779",
     "status": "failed"
    },
    "tags": []
   },
   "outputs": [
    {
     "ename": "ValueError",
     "evalue": "Exception encountered when calling Sequential.call().\n\n\u001b[1mInput 0 of layer \"dense\" is incompatible with the layer: expected axis -1 of input shape to have value 39, but received input with shape (None, 38)\u001b[0m\n\nArguments received by Sequential.call():\n  • inputs=tf.Tensor(shape=(None, 38), dtype=float32)\n  • training=True\n  • mask=None",
     "output_type": "error",
     "traceback": [
      "\u001b[0;31m---------------------------------------------------------------------------\u001b[0m",
      "\u001b[0;31mValueError\u001b[0m                                Traceback (most recent call last)",
      "Cell \u001b[0;32mIn[25], line 1\u001b[0m\n\u001b[0;32m----> 1\u001b[0m history \u001b[38;5;241m=\u001b[39m \u001b[43mmodelo\u001b[49m\u001b[38;5;241;43m.\u001b[39;49m\u001b[43mfit\u001b[49m\u001b[43m(\u001b[49m\n\u001b[1;32m      2\u001b[0m \u001b[43m    \u001b[49m\u001b[43mX_train\u001b[49m\u001b[43m,\u001b[49m\u001b[43m \u001b[49m\u001b[43my_train\u001b[49m\u001b[43m,\u001b[49m\n\u001b[1;32m      3\u001b[0m \u001b[43m    \u001b[49m\u001b[43mvalidation_data\u001b[49m\u001b[38;5;241;43m=\u001b[39;49m\u001b[43m(\u001b[49m\u001b[43mX_val\u001b[49m\u001b[43m,\u001b[49m\u001b[43m \u001b[49m\u001b[43my_val\u001b[49m\u001b[43m)\u001b[49m\u001b[43m,\u001b[49m\n\u001b[1;32m      4\u001b[0m \u001b[43m    \u001b[49m\u001b[43mbatch_size\u001b[49m\u001b[38;5;241;43m=\u001b[39;49m\u001b[38;5;241;43m300\u001b[39;49m\u001b[43m,\u001b[49m\n\u001b[1;32m      5\u001b[0m \u001b[43m    \u001b[49m\u001b[43mepochs\u001b[49m\u001b[38;5;241;43m=\u001b[39;49m\u001b[38;5;241;43m100\u001b[39;49m\u001b[43m,\u001b[49m\n\u001b[1;32m      6\u001b[0m \u001b[43m    \u001b[49m\u001b[43mverbose\u001b[49m\u001b[38;5;241;43m=\u001b[39;49m\u001b[38;5;241;43m0\u001b[39;49m\u001b[43m)\u001b[49m\n\u001b[1;32m      8\u001b[0m \u001b[38;5;28mprint\u001b[39m(history)\n",
      "File \u001b[0;32m/opt/conda/lib/python3.10/site-packages/keras/src/utils/traceback_utils.py:122\u001b[0m, in \u001b[0;36mfilter_traceback.<locals>.error_handler\u001b[0;34m(*args, **kwargs)\u001b[0m\n\u001b[1;32m    119\u001b[0m     filtered_tb \u001b[38;5;241m=\u001b[39m _process_traceback_frames(e\u001b[38;5;241m.\u001b[39m__traceback__)\n\u001b[1;32m    120\u001b[0m     \u001b[38;5;66;03m# To get the full stack trace, call:\u001b[39;00m\n\u001b[1;32m    121\u001b[0m     \u001b[38;5;66;03m# `keras.config.disable_traceback_filtering()`\u001b[39;00m\n\u001b[0;32m--> 122\u001b[0m     \u001b[38;5;28;01mraise\u001b[39;00m e\u001b[38;5;241m.\u001b[39mwith_traceback(filtered_tb) \u001b[38;5;28;01mfrom\u001b[39;00m \u001b[38;5;28;01mNone\u001b[39;00m\n\u001b[1;32m    123\u001b[0m \u001b[38;5;28;01mfinally\u001b[39;00m:\n\u001b[1;32m    124\u001b[0m     \u001b[38;5;28;01mdel\u001b[39;00m filtered_tb\n",
      "File \u001b[0;32m/opt/conda/lib/python3.10/site-packages/keras/src/layers/input_spec.py:227\u001b[0m, in \u001b[0;36massert_input_compatibility\u001b[0;34m(input_spec, inputs, layer_name)\u001b[0m\n\u001b[1;32m    222\u001b[0m     \u001b[38;5;28;01mfor\u001b[39;00m axis, value \u001b[38;5;129;01min\u001b[39;00m spec\u001b[38;5;241m.\u001b[39maxes\u001b[38;5;241m.\u001b[39mitems():\n\u001b[1;32m    223\u001b[0m         \u001b[38;5;28;01mif\u001b[39;00m value \u001b[38;5;129;01mis\u001b[39;00m \u001b[38;5;129;01mnot\u001b[39;00m \u001b[38;5;28;01mNone\u001b[39;00m \u001b[38;5;129;01mand\u001b[39;00m shape[axis] \u001b[38;5;129;01mnot\u001b[39;00m \u001b[38;5;129;01min\u001b[39;00m {\n\u001b[1;32m    224\u001b[0m             value,\n\u001b[1;32m    225\u001b[0m             \u001b[38;5;28;01mNone\u001b[39;00m,\n\u001b[1;32m    226\u001b[0m         }:\n\u001b[0;32m--> 227\u001b[0m             \u001b[38;5;28;01mraise\u001b[39;00m \u001b[38;5;167;01mValueError\u001b[39;00m(\n\u001b[1;32m    228\u001b[0m                 \u001b[38;5;124mf\u001b[39m\u001b[38;5;124m'\u001b[39m\u001b[38;5;124mInput \u001b[39m\u001b[38;5;132;01m{\u001b[39;00minput_index\u001b[38;5;132;01m}\u001b[39;00m\u001b[38;5;124m of layer \u001b[39m\u001b[38;5;124m\"\u001b[39m\u001b[38;5;132;01m{\u001b[39;00mlayer_name\u001b[38;5;132;01m}\u001b[39;00m\u001b[38;5;124m\"\u001b[39m\u001b[38;5;124m is \u001b[39m\u001b[38;5;124m'\u001b[39m\n\u001b[1;32m    229\u001b[0m                 \u001b[38;5;124mf\u001b[39m\u001b[38;5;124m\"\u001b[39m\u001b[38;5;124mincompatible with the layer: expected axis \u001b[39m\u001b[38;5;132;01m{\u001b[39;00maxis\u001b[38;5;132;01m}\u001b[39;00m\u001b[38;5;124m \u001b[39m\u001b[38;5;124m\"\u001b[39m\n\u001b[1;32m    230\u001b[0m                 \u001b[38;5;124mf\u001b[39m\u001b[38;5;124m\"\u001b[39m\u001b[38;5;124mof input shape to have value \u001b[39m\u001b[38;5;132;01m{\u001b[39;00mvalue\u001b[38;5;132;01m}\u001b[39;00m\u001b[38;5;124m, \u001b[39m\u001b[38;5;124m\"\u001b[39m\n\u001b[1;32m    231\u001b[0m                 \u001b[38;5;124m\"\u001b[39m\u001b[38;5;124mbut received input with \u001b[39m\u001b[38;5;124m\"\u001b[39m\n\u001b[1;32m    232\u001b[0m                 \u001b[38;5;124mf\u001b[39m\u001b[38;5;124m\"\u001b[39m\u001b[38;5;124mshape \u001b[39m\u001b[38;5;132;01m{\u001b[39;00mshape\u001b[38;5;132;01m}\u001b[39;00m\u001b[38;5;124m\"\u001b[39m\n\u001b[1;32m    233\u001b[0m             )\n\u001b[1;32m    234\u001b[0m \u001b[38;5;66;03m# Check shape.\u001b[39;00m\n\u001b[1;32m    235\u001b[0m \u001b[38;5;28;01mif\u001b[39;00m spec\u001b[38;5;241m.\u001b[39mshape \u001b[38;5;129;01mis\u001b[39;00m \u001b[38;5;129;01mnot\u001b[39;00m \u001b[38;5;28;01mNone\u001b[39;00m:\n",
      "\u001b[0;31mValueError\u001b[0m: Exception encountered when calling Sequential.call().\n\n\u001b[1mInput 0 of layer \"dense\" is incompatible with the layer: expected axis -1 of input shape to have value 39, but received input with shape (None, 38)\u001b[0m\n\nArguments received by Sequential.call():\n  • inputs=tf.Tensor(shape=(None, 38), dtype=float32)\n  • training=True\n  • mask=None"
     ]
    }
   ],
   "source": [
    "history = modelo.fit(\n",
    "    X_train, y_train,\n",
    "    validation_data=(X_val, y_val),\n",
    "    batch_size=300,\n",
    "    epochs=100,\n",
    "    verbose=0)\n",
    "\n",
    "print(history)\n"
   ]
  },
  {
   "cell_type": "code",
   "execution_count": null,
   "id": "871c95c0",
   "metadata": {
    "papermill": {
     "duration": null,
     "end_time": null,
     "exception": null,
     "start_time": null,
     "status": "pending"
    },
    "tags": []
   },
   "outputs": [],
   "source": [
    "import matplotlib.pyplot as plt\n",
    "history_df = pd.DataFrame(history.history)\n",
    "history_df.loc[:, ['loss', 'val_loss']].plot();\n",
    "\n",
    "\n",
    "\n"
   ]
  }
 ],
 "metadata": {
  "kaggle": {
   "accelerator": "none",
   "dataSources": [
    {
     "datasetId": 634,
     "sourceId": 1203,
     "sourceType": "datasetVersion"
    }
   ],
   "dockerImageVersionId": 30698,
   "isGpuEnabled": false,
   "isInternetEnabled": false,
   "language": "python",
   "sourceType": "notebook"
  },
  "kernelspec": {
   "display_name": "Python 3",
   "language": "python",
   "name": "python3"
  },
  "language_info": {
   "codemirror_mode": {
    "name": "ipython",
    "version": 3
   },
   "file_extension": ".py",
   "mimetype": "text/x-python",
   "name": "python",
   "nbconvert_exporter": "python",
   "pygments_lexer": "ipython3",
   "version": "3.10.13"
  },
  "papermill": {
   "default_parameters": {},
   "duration": 23.967702,
   "end_time": "2024-05-03T19:02:54.850442",
   "environment_variables": {},
   "exception": true,
   "input_path": "__notebook__.ipynb",
   "output_path": "__notebook__.ipynb",
   "parameters": {},
   "start_time": "2024-05-03T19:02:30.882740",
   "version": "2.5.0"
  }
 },
 "nbformat": 4,
 "nbformat_minor": 5
}
